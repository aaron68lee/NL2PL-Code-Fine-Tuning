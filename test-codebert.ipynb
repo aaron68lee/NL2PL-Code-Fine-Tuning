{
 "cells": [
  {
   "cell_type": "code",
   "execution_count": null,
   "metadata": {
    "colab": {
     "base_uri": "https://localhost:8080/"
    },
    "executionInfo": {
     "elapsed": 22871,
     "status": "ok",
     "timestamp": 1701470391994,
     "user": {
      "displayName": "JOHNATHAN TRAN",
      "userId": "06594857436013257820"
     },
     "user_tz": 480
    },
    "id": "8iAiGscrWD4v",
    "outputId": "b751936d-0bf0-4a5e-8b50-b53617f6466f"
   },
   "outputs": [],
   "source": [
    "# from google.colab import drive\n",
    "# drive.mount('/content/drive')\n",
    "# FOLDERNAME = 'CodeBERT/CodeBERT'\n",
    "# assert FOLDERNAME is not None, \"[!] Enter the foldername.\"\n",
    "\n",
    "# # Now that we've mounted your Drive, this ensures that\n",
    "# # the Python interpreter of the Colab VM can load\n",
    "# # python files from within it.\n",
    "# import sys\n",
    "# sys.path.append('/content/drive/My Drive/{}'.format(FOLDERNAME))\n",
    "\n",
    "# %cd /content/drive/My\\ Drive/$FOLDERNAME"
   ]
  },
  {
   "cell_type": "code",
   "execution_count": 2,
   "metadata": {
    "executionInfo": {
     "elapsed": 312,
     "status": "ok",
     "timestamp": 1701470392302,
     "user": {
      "displayName": "JOHNATHAN TRAN",
      "userId": "06594857436013257820"
     },
     "user_tz": 480
    },
    "id": "Cf9ZGoCQWed8"
   },
   "outputs": [],
   "source": [
    "# %load_ext autoreload\n",
    "# %autoreload 2"
   ]
  },
  {
   "cell_type": "code",
   "execution_count": null,
   "metadata": {
    "id": "bfWoBIP9aaTz"
   },
   "outputs": [],
   "source": [
    "## Downloads the dataset\n",
    "# !pip install gdown\n",
    "# !mkdir data data/code2nl\n",
    "# !cd data/code2nl\n",
    "# !gdown https://drive.google.com/uc?id=1rd2Tc6oUWBo7JouwexW3ksQ0PaOhUr6h\n",
    "# !unzip Cleaned_CodeSearchNet.zip\n",
    "# !rm Cleaned_CodeSearchNet.zip\n",
    "# !cd ../.."
   ]
  },
  {
   "cell_type": "code",
   "execution_count": 1,
   "metadata": {
    "colab": {
     "base_uri": "https://localhost:8080/"
    },
    "executionInfo": {
     "elapsed": 13,
     "status": "ok",
     "timestamp": 1701412204290,
     "user": {
      "displayName": "JOHNATHAN TRAN",
      "userId": "06594857436013257820"
     },
     "user_tz": 480
    },
    "id": "5OgKZ-wLceqp",
    "outputId": "1b9621fc-478c-4375-ddfd-25bb83a91cbc",
    "tags": []
   },
   "outputs": [
    {
     "name": "stdout",
     "output_type": "stream",
     "text": [
      "README.md  code2nl  data  main.py  prompts.py  test-codebert.ipynb  train.py\n"
     ]
    }
   ],
   "source": [
    "!ls"
   ]
  },
  {
   "cell_type": "code",
   "execution_count": 3,
   "metadata": {
    "colab": {
     "base_uri": "https://localhost:8080/"
    },
    "executionInfo": {
     "elapsed": 6566,
     "status": "ok",
     "timestamp": 1701412210852,
     "user": {
      "displayName": "JOHNATHAN TRAN",
      "userId": "06594857436013257820"
     },
     "user_tz": 480
    },
    "id": "_xUgQrBwVgb9",
    "outputId": "20efd4a1-5221-426a-b607-a82e56861218",
    "tags": []
   },
   "outputs": [
    {
     "name": "stdout",
     "output_type": "stream",
     "text": [
      "Collecting transformers\n",
      "  Downloading transformers-4.35.2-py3-none-any.whl.metadata (123 kB)\n",
      "\u001b[2K     \u001b[90m━━━━━━━━━━━━━━━━━━━━━━━━━━━━━━━━━━━━━━━\u001b[0m \u001b[32m123.5/123.5 kB\u001b[0m \u001b[31m4.4 MB/s\u001b[0m eta \u001b[36m0:00:00\u001b[0m\n",
      "\u001b[?25hRequirement already satisfied: filelock in /opt/conda/lib/python3.10/site-packages (from transformers) (3.13.1)\n",
      "Collecting huggingface-hub<1.0,>=0.16.4 (from transformers)\n",
      "  Downloading huggingface_hub-0.19.4-py3-none-any.whl.metadata (14 kB)\n",
      "Requirement already satisfied: numpy>=1.17 in /opt/conda/lib/python3.10/site-packages (from transformers) (1.25.2)\n",
      "Requirement already satisfied: packaging>=20.0 in /opt/conda/lib/python3.10/site-packages (from transformers) (23.2)\n",
      "Requirement already satisfied: pyyaml>=5.1 in /opt/conda/lib/python3.10/site-packages (from transformers) (6.0.1)\n",
      "Collecting regex!=2019.12.17 (from transformers)\n",
      "  Downloading regex-2023.10.3-cp310-cp310-manylinux_2_17_x86_64.manylinux2014_x86_64.whl.metadata (40 kB)\n",
      "\u001b[2K     \u001b[90m━━━━━━━━━━━━━━━━━━━━━━━━━━━━━━━━━━━━━━━━\u001b[0m \u001b[32m40.9/40.9 kB\u001b[0m \u001b[31m4.9 MB/s\u001b[0m eta \u001b[36m0:00:00\u001b[0m\n",
      "\u001b[?25hRequirement already satisfied: requests in /opt/conda/lib/python3.10/site-packages (from transformers) (2.31.0)\n",
      "Collecting tokenizers<0.19,>=0.14 (from transformers)\n",
      "  Downloading tokenizers-0.15.0-cp310-cp310-manylinux_2_17_x86_64.manylinux2014_x86_64.whl.metadata (6.7 kB)\n",
      "Collecting safetensors>=0.3.1 (from transformers)\n",
      "  Downloading safetensors-0.4.1-cp310-cp310-manylinux_2_17_x86_64.manylinux2014_x86_64.whl.metadata (3.8 kB)\n",
      "Requirement already satisfied: tqdm>=4.27 in /opt/conda/lib/python3.10/site-packages (from transformers) (4.66.1)\n",
      "Requirement already satisfied: fsspec>=2023.5.0 in /opt/conda/lib/python3.10/site-packages (from huggingface-hub<1.0,>=0.16.4->transformers) (2023.10.0)\n",
      "Requirement already satisfied: typing-extensions>=3.7.4.3 in /opt/conda/lib/python3.10/site-packages (from huggingface-hub<1.0,>=0.16.4->transformers) (4.8.0)\n",
      "Requirement already satisfied: charset-normalizer<4,>=2 in /opt/conda/lib/python3.10/site-packages (from requests->transformers) (3.3.2)\n",
      "Requirement already satisfied: idna<4,>=2.5 in /opt/conda/lib/python3.10/site-packages (from requests->transformers) (3.4)\n",
      "Requirement already satisfied: urllib3<3,>=1.21.1 in /opt/conda/lib/python3.10/site-packages (from requests->transformers) (1.26.18)\n",
      "Requirement already satisfied: certifi>=2017.4.17 in /opt/conda/lib/python3.10/site-packages (from requests->transformers) (2023.7.22)\n",
      "Downloading transformers-4.35.2-py3-none-any.whl (7.9 MB)\n",
      "\u001b[2K   \u001b[90m━━━━━━━━━━━━━━━━━━━━━━━━━━━━━━━━━━━━━━━━\u001b[0m \u001b[32m7.9/7.9 MB\u001b[0m \u001b[31m41.6 MB/s\u001b[0m eta \u001b[36m0:00:00\u001b[0m:00:01\u001b[0m0:01\u001b[0m\n",
      "\u001b[?25hDownloading huggingface_hub-0.19.4-py3-none-any.whl (311 kB)\n",
      "\u001b[2K   \u001b[90m━━━━━━━━━━━━━━━━━━━━━━━━━━━━━━━━━━━━━━━━\u001b[0m \u001b[32m311.7/311.7 kB\u001b[0m \u001b[31m36.7 MB/s\u001b[0m eta \u001b[36m0:00:00\u001b[0m\n",
      "\u001b[?25hDownloading regex-2023.10.3-cp310-cp310-manylinux_2_17_x86_64.manylinux2014_x86_64.whl (773 kB)\n",
      "\u001b[2K   \u001b[90m━━━━━━━━━━━━━━━━━━━━━━━━━━━━━━━━━━━━━━━━\u001b[0m \u001b[32m773.9/773.9 kB\u001b[0m \u001b[31m40.4 MB/s\u001b[0m eta \u001b[36m0:00:00\u001b[0m\n",
      "\u001b[?25hDownloading safetensors-0.4.1-cp310-cp310-manylinux_2_17_x86_64.manylinux2014_x86_64.whl (1.3 MB)\n",
      "\u001b[2K   \u001b[90m━━━━━━━━━━━━━━━━━━━━━━━━━━━━━━━━━━━━━━━━\u001b[0m \u001b[32m1.3/1.3 MB\u001b[0m \u001b[31m78.4 MB/s\u001b[0m eta \u001b[36m0:00:00\u001b[0m\n",
      "\u001b[?25hDownloading tokenizers-0.15.0-cp310-cp310-manylinux_2_17_x86_64.manylinux2014_x86_64.whl (3.8 MB)\n",
      "\u001b[2K   \u001b[90m━━━━━━━━━━━━━━━━━━━━━━━━━━━━━━━━━━━━━━━━\u001b[0m \u001b[32m3.8/3.8 MB\u001b[0m \u001b[31m78.6 MB/s\u001b[0m eta \u001b[36m0:00:00\u001b[0m:00:01\u001b[0m\n",
      "\u001b[?25hInstalling collected packages: safetensors, regex, huggingface-hub, tokenizers, transformers\n",
      "Successfully installed huggingface-hub-0.19.4 regex-2023.10.3 safetensors-0.4.1 tokenizers-0.15.0 transformers-4.35.2\n",
      "--2023-12-02 00:30:33--  https://code-summary.s3.amazonaws.com/pytorch_model.bin\n",
      "Resolving code-summary.s3.amazonaws.com (code-summary.s3.amazonaws.com)... 3.5.25.69, 52.216.210.89, 54.231.128.249, ...\n",
      "Connecting to code-summary.s3.amazonaws.com (code-summary.s3.amazonaws.com)|3.5.25.69|:443... connected.\n",
      "HTTP request sent, awaiting response... 200 OK\n",
      "Length: 706871064 (674M) [application/macbinary]\n",
      "Saving to: ‘pytorch_model.bin’\n",
      "\n",
      "pytorch_model.bin   100%[===================>] 674.12M  39.6MB/s    in 16s     \n",
      "\n",
      "2023-12-02 00:30:49 (43.5 MB/s) - ‘pytorch_model.bin’ saved [706871064/706871064]\n",
      "\n"
     ]
    }
   ],
   "source": [
    "!pip install transformers\n",
    "## Downloads the model state\n",
    "!wget https://code-summary.s3.amazonaws.com/pytorch_model.bin"
   ]
  },
  {
   "cell_type": "code",
   "execution_count": null,
   "metadata": {
    "id": "8tucgEAJYEKU"
   },
   "outputs": [],
   "source": [
    "lang='python' #programming language\n",
    "beam_size=10\n",
    "batch_size=128\n",
    "source_length=256\n",
    "target_length=128\n",
    "output_dir=f'model/{lang}'\n",
    "data_dir='CodeSearchNet'\n",
    "# test_file=f'{data_dir}/{lang}/test.jsonl'\n",
    "test_file=f'../python-cleaned.jsonl'\n",
    "test_model=f'pytorch_model.bin' #checkpoint for test\n"
   ]
  },
  {
   "cell_type": "code",
   "execution_count": null,
   "metadata": {
    "colab": {
     "base_uri": "https://localhost:8080/"
    },
    "executionInfo": {
     "elapsed": 1110862,
     "status": "ok",
     "timestamp": 1701413485350,
     "user": {
      "displayName": "JOHNATHAN TRAN",
      "userId": "06594857436013257820"
     },
     "user_tz": 480
    },
    "id": "byBFjbR3Xj8j",
    "outputId": "5c401e10-9491-4163-f52e-e7c135bfa64a"
   },
   "outputs": [],
   "source": [
    "!python code2nl/run.py --do_test --model_type roberta --model_name_or_path microsoft/codebert-base --load_model_path $test_model --test_filename $test_file --output_dir $output_dir --max_source_length $source_length --max_target_length $target_length --beam_size $beam_size --eval_batch_size $batch_size"
   ]
  },
  {
   "cell_type": "code",
   "execution_count": null,
   "metadata": {
    "colab": {
     "base_uri": "https://localhost:8080/"
    },
    "executionInfo": {
     "elapsed": 323905,
     "status": "ok",
     "timestamp": 1701470755004,
     "user": {
      "displayName": "JOHNATHAN TRAN",
      "userId": "06594857436013257820"
     },
     "user_tz": 480
    },
    "id": "hahIcX3CEjzl",
    "outputId": "2d9fee11-aca3-4102-c154-f0d9740d5baa",
    "tags": []
   },
   "outputs": [
    {
     "name": "stdout",
     "output_type": "stream",
     "text": [
      "12/02/2023 00:37:26 - INFO - __main__ -   Namespace(model_type='roberta', model_name_or_path='microsoft/codebert-base', output_dir='model/python', load_model_path='pytorch_model.bin', train_filename='data/python-cleaned-train.jsonl', dev_filename='data/python-cleaned-valid.jsonl', test_filename=None, config_name='', tokenizer_name='', max_source_length=256, max_target_length=128, do_train=True, do_eval=True, do_test=False, do_lower_case=False, no_cuda=False, train_batch_size=32, eval_batch_size=32, gradient_accumulation_steps=1, learning_rate=5e-05, beam_size=10, weight_decay=0.0, adam_epsilon=1e-08, max_grad_norm=1.0, num_train_epochs=3.0, max_steps=-1, eval_steps=1, train_steps=10, warmup_steps=0, local_rank=-1, seed=42)\n",
      "12/02/2023 00:37:31 - WARNING - __main__ -   Process rank: -1, device: cuda, n_gpu: 1, distributed training: False\n",
      "config.json: 100%|█████████████████████████████| 498/498 [00:00<00:00, 1.50MB/s]\n",
      "tokenizer_config.json: 100%|█████████████████| 25.0/25.0 [00:00<00:00, 90.1kB/s]\n",
      "vocab.json: 100%|████████████████████████████| 899k/899k [00:00<00:00, 52.4MB/s]\n",
      "merges.txt: 100%|████████████████████████████| 456k/456k [00:00<00:00, 49.9MB/s]\n",
      "special_tokens_map.json: 100%|██████████████████| 150/150 [00:00<00:00, 464kB/s]\n",
      "12/02/2023 00:37:46 - INFO - __main__ -   *** Example ***\n",
      "12/02/2023 00:37:46 - INFO - __main__ -   idx: 0\n",
      "12/02/2023 00:37:46 - INFO - __main__ -   source_tokens: ['<s>', 'def', '_x', '_(', '_self', '_)', '_:', '_return', '_self', '_[', '_\"', 'x', '\"', '_]', '</s>']\n",
      "12/02/2023 00:37:46 - INFO - __main__ -   source_ids: 0 9232 3023 36 1403 4839 4832 671 1403 646 22 1178 113 27779 2 1 1 1 1 1 1 1 1 1 1 1 1 1 1 1 1 1 1 1 1 1 1 1 1 1 1 1 1 1 1 1 1 1 1 1 1 1 1 1 1 1 1 1 1 1 1 1 1 1 1 1 1 1 1 1 1 1 1 1 1 1 1 1 1 1 1 1 1 1 1 1 1 1 1 1 1 1 1 1 1 1 1 1 1 1 1 1 1 1 1 1 1 1 1 1 1 1 1 1 1 1 1 1 1 1 1 1 1 1 1 1 1 1 1 1 1 1 1 1 1 1 1 1 1 1 1 1 1 1 1 1 1 1 1 1 1 1 1 1 1 1 1 1 1 1 1 1 1 1 1 1 1 1 1 1 1 1 1 1 1 1 1 1 1 1 1 1 1 1 1 1 1 1 1 1 1 1 1 1 1 1 1 1 1 1 1 1 1 1 1 1 1 1 1 1 1 1 1 1 1 1 1 1 1 1 1 1 1 1 1 1 1 1 1 1 1 1 1 1 1 1 1 1 1 1 1 1 1 1 1 1 1 1 1 1 1 1 1 1 1 1\n",
      "12/02/2023 00:37:46 - INFO - __main__ -   source_mask: 1 1 1 1 1 1 1 1 1 1 1 1 1 1 1 0 0 0 0 0 0 0 0 0 0 0 0 0 0 0 0 0 0 0 0 0 0 0 0 0 0 0 0 0 0 0 0 0 0 0 0 0 0 0 0 0 0 0 0 0 0 0 0 0 0 0 0 0 0 0 0 0 0 0 0 0 0 0 0 0 0 0 0 0 0 0 0 0 0 0 0 0 0 0 0 0 0 0 0 0 0 0 0 0 0 0 0 0 0 0 0 0 0 0 0 0 0 0 0 0 0 0 0 0 0 0 0 0 0 0 0 0 0 0 0 0 0 0 0 0 0 0 0 0 0 0 0 0 0 0 0 0 0 0 0 0 0 0 0 0 0 0 0 0 0 0 0 0 0 0 0 0 0 0 0 0 0 0 0 0 0 0 0 0 0 0 0 0 0 0 0 0 0 0 0 0 0 0 0 0 0 0 0 0 0 0 0 0 0 0 0 0 0 0 0 0 0 0 0 0 0 0 0 0 0 0 0 0 0 0 0 0 0 0 0 0 0 0 0 0 0 0 0 0 0 0 0 0 0 0 0 0 0 0 0 0\n",
      "12/02/2023 00:37:46 - INFO - __main__ -   target_tokens: ['<s>', 'The', '_x', '_property', '_is', '_an', '_instance', '_of', '_X', '_that', '_may', '_be', '_specified', '_as', '_:', '_-', '_An', '_instance', '_of', '_:', '_class', '_:', '_plot', 'ly', '_.', '_graph', '_', 'ob', 'js', '_.', '_scatter', '3', 'd', '_.', '_projection', '_.', '_X', '_-', '_A', '_dict', '_of', '_string', '_/', '_value', '_properties', '_that', '_will', '_be', '_passed', '_to', '_the', '_X', '_constructor', '</s>']\n",
      "12/02/2023 00:37:46 - INFO - __main__ -   target_ids: 0 133 3023 1038 16 41 4327 9 1577 14 189 28 17966 25 4832 111 660 4327 9 4832 1380 4832 6197 352 479 20992 1215 2413 21978 479 41692 246 417 479 18144 479 1577 111 83 28700 9 6755 1589 923 3611 14 40 28 1595 7 5 1577 47073 2 1 1 1 1 1 1 1 1 1 1 1 1 1 1 1 1 1 1 1 1 1 1 1 1 1 1 1 1 1 1 1 1 1 1 1 1 1 1 1 1 1 1 1 1 1 1 1 1 1 1 1 1 1 1 1 1 1 1 1 1 1 1 1 1 1 1 1 1 1 1 1 1 1 1\n",
      "12/02/2023 00:37:46 - INFO - __main__ -   target_mask: 1 1 1 1 1 1 1 1 1 1 1 1 1 1 1 1 1 1 1 1 1 1 1 1 1 1 1 1 1 1 1 1 1 1 1 1 1 1 1 1 1 1 1 1 1 1 1 1 1 1 1 1 1 1 0 0 0 0 0 0 0 0 0 0 0 0 0 0 0 0 0 0 0 0 0 0 0 0 0 0 0 0 0 0 0 0 0 0 0 0 0 0 0 0 0 0 0 0 0 0 0 0 0 0 0 0 0 0 0 0 0 0 0 0 0 0 0 0 0 0 0 0 0 0 0 0 0 0\n",
      "12/02/2023 00:37:46 - INFO - __main__ -   *** Example ***\n",
      "12/02/2023 00:37:46 - INFO - __main__ -   idx: 1\n",
      "12/02/2023 00:37:46 - INFO - __main__ -   source_tokens: ['<s>', 'def', '__', 'valid', 'ate', '_', 'n', 'umeric', '_', 'only', '_(', '_self', '_,', '_name', '_:', '_str', '_,', '_numeric', '_', 'only', '_:', '_bool', '_)', '_->', '_None', '_:', '_if', '_(', '_self', '_.', '__', 'selected', '_', 'obj', '_.', '_n', 'dim', '_==', '_1', '_and', '_numeric', '_', 'only', '_and', '_not', '_is', '_', 'n', 'umeric', '_', 'd', 'type', '_(', '_self', '_.', '__', 'selected', '_', 'obj', '_.', '_d', 'type', '_)', '_)', '_:', '_raise', '_Not', 'Im', 'ple', 'mented', 'Error', '_(', '_f', '\"', '{', 'type', '(', 'self', ').', '__', 'name', '__', '}.', '{', 'name', '}', '_does', '_not', '_implement', '_numeric', '_', 'only', '\"', '_)', '</s>']\n",
      "12/02/2023 00:37:46 - INFO - __main__ -   source_ids: 0 9232 18134 42679 877 1215 282 46990 1215 8338 36 1403 2156 766 4832 7031 2156 46325 1215 8338 4832 49460 4839 43839 9291 4832 114 36 1403 479 18134 41642 1215 46134 479 295 37152 45994 112 8 46325 1215 8338 8 45 16 1215 282 46990 1215 417 12528 36 1403 479 18134 41642 1215 46134 479 385 12528 4839 4839 4832 1693 1491 20470 8293 19601 30192 36 856 113 45152 12528 1640 13367 322 30529 13650 30529 48634 45152 13650 24303 473 45 5731 46325 1215 8338 113 4839 2 1 1 1 1 1 1 1 1 1 1 1 1 1 1 1 1 1 1 1 1 1 1 1 1 1 1 1 1 1 1 1 1 1 1 1 1 1 1 1 1 1 1 1 1 1 1 1 1 1 1 1 1 1 1 1 1 1 1 1 1 1 1 1 1 1 1 1 1 1 1 1 1 1 1 1 1 1 1 1 1 1 1 1 1 1 1 1 1 1 1 1 1 1 1 1 1 1 1 1 1 1 1 1 1 1 1 1 1 1 1 1 1 1 1 1 1 1 1 1 1 1 1 1 1 1 1 1 1 1 1 1 1 1 1 1 1 1 1 1 1 1 1 1 1 1 1 1 1 1 1 1 1 1 1 1 1 1 1 1 1 1\n",
      "12/02/2023 00:37:46 - INFO - __main__ -   source_mask: 1 1 1 1 1 1 1 1 1 1 1 1 1 1 1 1 1 1 1 1 1 1 1 1 1 1 1 1 1 1 1 1 1 1 1 1 1 1 1 1 1 1 1 1 1 1 1 1 1 1 1 1 1 1 1 1 1 1 1 1 1 1 1 1 1 1 1 1 1 1 1 1 1 1 1 1 1 1 1 1 1 1 1 1 1 1 1 1 1 1 1 1 1 1 1 0 0 0 0 0 0 0 0 0 0 0 0 0 0 0 0 0 0 0 0 0 0 0 0 0 0 0 0 0 0 0 0 0 0 0 0 0 0 0 0 0 0 0 0 0 0 0 0 0 0 0 0 0 0 0 0 0 0 0 0 0 0 0 0 0 0 0 0 0 0 0 0 0 0 0 0 0 0 0 0 0 0 0 0 0 0 0 0 0 0 0 0 0 0 0 0 0 0 0 0 0 0 0 0 0 0 0 0 0 0 0 0 0 0 0 0 0 0 0 0 0 0 0 0 0 0 0 0 0 0 0 0 0 0 0 0 0 0 0 0 0 0 0 0 0 0 0 0 0 0 0 0 0 0 0 0 0 0 0 0 0\n",
      "12/02/2023 00:37:46 - INFO - __main__ -   target_tokens: ['<s>', 'Val', 'idate', '_numeric', '_', 'only', '_argument', '_raising', '_if', '_invalid', '_for', '_the', '_input', '_.', '</s>']\n",
      "12/02/2023 00:37:46 - INFO - __main__ -   target_ids: 0 20320 32890 46325 1215 8338 4795 3282 114 21567 13 5 8135 479 2 1 1 1 1 1 1 1 1 1 1 1 1 1 1 1 1 1 1 1 1 1 1 1 1 1 1 1 1 1 1 1 1 1 1 1 1 1 1 1 1 1 1 1 1 1 1 1 1 1 1 1 1 1 1 1 1 1 1 1 1 1 1 1 1 1 1 1 1 1 1 1 1 1 1 1 1 1 1 1 1 1 1 1 1 1 1 1 1 1 1 1 1 1 1 1 1 1 1 1 1 1 1 1 1 1 1 1 1 1 1 1 1 1\n",
      "12/02/2023 00:37:46 - INFO - __main__ -   target_mask: 1 1 1 1 1 1 1 1 1 1 1 1 1 1 1 0 0 0 0 0 0 0 0 0 0 0 0 0 0 0 0 0 0 0 0 0 0 0 0 0 0 0 0 0 0 0 0 0 0 0 0 0 0 0 0 0 0 0 0 0 0 0 0 0 0 0 0 0 0 0 0 0 0 0 0 0 0 0 0 0 0 0 0 0 0 0 0 0 0 0 0 0 0 0 0 0 0 0 0 0 0 0 0 0 0 0 0 0 0 0 0 0 0 0 0 0 0 0 0 0 0 0 0 0 0 0 0 0\n",
      "12/02/2023 00:37:46 - INFO - __main__ -   *** Example ***\n",
      "12/02/2023 00:37:46 - INFO - __main__ -   idx: 2\n",
      "12/02/2023 00:37:46 - INFO - __main__ -   source_tokens: ['<s>', 'def', '__', 'get', '_', 'download', '_', 'cache', '_', 'loc', '_(', '_p', 'kg', 'name', '_=', '_\"', 'ast', 'ropy', '\"', '_)', '_:', '_try', '_:', '_dat', 'ad', 'ir', '_=', '_os', '_.', '_path', '_.', '_join', '_(', '_ast', 'ropy', '_.', '_config', '_.', '_paths', '_.', '_get', '_', 'cache', '_', 'dir', '_(', '_p', 'kg', 'name', '_)', '_,', '_\"', 'download', '\"', '_,', '_\"', 'url', '\"', '_)', '_if', '_not', '_os', '_.', '_path', '_.', '_exists', '_(', '_dat', 'ad', 'ir', '_)', '_:', '_try', '_:', '_os', '_.', '_m', 'aked', 'irs', '_(', '_dat', 'ad', 'ir', '_)', '_except', '_O', 'SE', 'r', 'ror', '_:', '_if', '_not', '_os', '_.', '_path', '_.', '_exists', '_(', '_dat', 'ad', 'ir', '_)', '_:', '_raise', '_el', 'if', '_not', '_os', '_.', '_path', '_.', '_is', 'dir', '_(', '_dat', 'ad', 'ir', '_)', '_:', '_raise', '_O', 'SE', 'r', 'ror', '_(', '_f', '\"', 'Data', '_cache', '_directory', '_{', 'dat', 'ad', 'ir', '}', '_is', '_not', '_a', '_directory', '\"', '_)', '_return', '_dat', 'ad', 'ir', '_except', '_O', 'SE', 'r', 'ror', '_as', '_e', '_:', '_msg', '_=', '_\"', 'Remote', '_data', '_cache', '_could', '_not', '_be', '_accessed', '_due', '_to', '_\"', '_est', 'r', '_=', '_\"\"', '_if', '_len', '_(', '_e', '_.', '_args', '_)', '_<', '_1', '_else', '_(', '_\"', ':', '_\"', '_+', '_str', '_(', '_e', '_)', '_)', '_warn', '_(', '_Cache', 'Missing', 'Warning', '_(', '_msg', '_+', '_e', '_.', '___', 'class', '__', '_.', '___', 'name', '__', '_+', '_est', 'r', '_)', '_)', '_raise', '</s>']\n",
      "12/02/2023 00:37:46 - INFO - __main__ -   source_ids: 0 9232 18134 6460 1215 41536 1215 47974 1215 26516 36 181 9043 13650 5457 22 1988 47145 113 4839 4832 860 4832 13516 625 853 5457 11988 479 2718 479 1962 36 12976 47145 479 40220 479 14561 479 120 1215 47974 1215 41292 36 181 9043 13650 4839 2156 22 41536 113 2156 22 6423 113 4839 114 45 11988 479 2718 479 8785 36 13516 625 853 4839 4832 860 4832 11988 479 475 8435 21098 36 13516 625 853 4839 4682 384 3388 338 21929 4832 114 45 11988 479 2718 479 8785 36 13516 625 853 4839 4832 1693 1615 1594 45 11988 479 2718 479 16 41292 36 13516 625 853 4839 4832 1693 384 3388 338 21929 36 856 113 30383 30283 31826 25522 36146 625 853 24303 16 45 10 31826 113 4839 671 13516 625 853 4682 384 3388 338 21929 25 364 4832 49049 5457 22 46866 414 30283 115 45 28 10763 528 7 22 3304 338 5457 41039 114 25528 36 364 479 49503 4839 28696 112 1493 36 22 35 22 2055 7031 36 364 4839 4839 11345 36 42285 45104 43370 36 49049 2055 364 479 27148 4684 30529 479 27148 13650 30529 2055 3304 338 4839 4839 1693 2 1 1 1 1 1 1 1 1 1 1 1 1 1 1 1 1 1 1 1 1 1 1 1 1 1 1 1 1 1 1 1 1 1 1 1 1 1 1 1 1 1 1\n",
      "12/02/2023 00:37:46 - INFO - __main__ -   source_mask: 1 1 1 1 1 1 1 1 1 1 1 1 1 1 1 1 1 1 1 1 1 1 1 1 1 1 1 1 1 1 1 1 1 1 1 1 1 1 1 1 1 1 1 1 1 1 1 1 1 1 1 1 1 1 1 1 1 1 1 1 1 1 1 1 1 1 1 1 1 1 1 1 1 1 1 1 1 1 1 1 1 1 1 1 1 1 1 1 1 1 1 1 1 1 1 1 1 1 1 1 1 1 1 1 1 1 1 1 1 1 1 1 1 1 1 1 1 1 1 1 1 1 1 1 1 1 1 1 1 1 1 1 1 1 1 1 1 1 1 1 1 1 1 1 1 1 1 1 1 1 1 1 1 1 1 1 1 1 1 1 1 1 1 1 1 1 1 1 1 1 1 1 1 1 1 1 1 1 1 1 1 1 1 1 1 1 1 1 1 1 1 1 1 1 1 1 1 1 1 1 1 1 1 1 1 1 1 1 1 1 1 1 1 1 0 0 0 0 0 0 0 0 0 0 0 0 0 0 0 0 0 0 0 0 0 0 0 0 0 0 0 0 0 0 0 0 0 0 0 0 0 0 0 0 0 0\n",
      "12/02/2023 00:37:46 - INFO - __main__ -   target_tokens: ['<s>', 'Find', 's', '_the', '_path', '_to', '_the', '_cache', '_directory', '_and', '_makes', '_them', '_if', '_they', '_don', '_t', '_exist', '_.', '</s>']\n",
      "12/02/2023 00:37:46 - INFO - __main__ -   target_ids: 0 38195 29 5 2718 7 5 30283 31826 8 817 106 114 51 218 326 5152 479 2 1 1 1 1 1 1 1 1 1 1 1 1 1 1 1 1 1 1 1 1 1 1 1 1 1 1 1 1 1 1 1 1 1 1 1 1 1 1 1 1 1 1 1 1 1 1 1 1 1 1 1 1 1 1 1 1 1 1 1 1 1 1 1 1 1 1 1 1 1 1 1 1 1 1 1 1 1 1 1 1 1 1 1 1 1 1 1 1 1 1 1 1 1 1 1 1 1 1 1 1 1 1 1 1 1 1 1 1 1\n",
      "12/02/2023 00:37:46 - INFO - __main__ -   target_mask: 1 1 1 1 1 1 1 1 1 1 1 1 1 1 1 1 1 1 1 0 0 0 0 0 0 0 0 0 0 0 0 0 0 0 0 0 0 0 0 0 0 0 0 0 0 0 0 0 0 0 0 0 0 0 0 0 0 0 0 0 0 0 0 0 0 0 0 0 0 0 0 0 0 0 0 0 0 0 0 0 0 0 0 0 0 0 0 0 0 0 0 0 0 0 0 0 0 0 0 0 0 0 0 0 0 0 0 0 0 0 0 0 0 0 0 0 0 0 0 0 0 0 0 0 0 0 0 0\n",
      "12/02/2023 00:37:46 - INFO - __main__ -   *** Example ***\n",
      "12/02/2023 00:37:46 - INFO - __main__ -   idx: 3\n",
      "12/02/2023 00:37:46 - INFO - __main__ -   source_tokens: ['<s>', 'def', '_get', '_', 'py', '_', 'values', '_(', '_self', '_,', '_form', 'ul', 'ae', '_)', '_:', '_res', '_=', '_{', '_}', '_for', '_f', '_in', '_form', 'ul', 'ae', '_:', '_v', '_=', '_self', '_.', '_get', '_', 'py', '_', 'value', '_(', '_f', '_)', '_res', '_[', '_f', '_]', '_=', '_v', '_return', '_res', '</s>']\n",
      "12/02/2023 00:37:46 - INFO - __main__ -   source_ids: 0 9232 120 1215 17163 1215 43994 36 1403 2156 1026 922 4791 4839 4832 5032 5457 25522 35524 13 856 11 1026 922 4791 4832 748 5457 1403 479 120 1215 17163 1215 19434 36 856 4839 5032 646 856 27779 5457 748 671 5032 2 1 1 1 1 1 1 1 1 1 1 1 1 1 1 1 1 1 1 1 1 1 1 1 1 1 1 1 1 1 1 1 1 1 1 1 1 1 1 1 1 1 1 1 1 1 1 1 1 1 1 1 1 1 1 1 1 1 1 1 1 1 1 1 1 1 1 1 1 1 1 1 1 1 1 1 1 1 1 1 1 1 1 1 1 1 1 1 1 1 1 1 1 1 1 1 1 1 1 1 1 1 1 1 1 1 1 1 1 1 1 1 1 1 1 1 1 1 1 1 1 1 1 1 1 1 1 1 1 1 1 1 1 1 1 1 1 1 1 1 1 1 1 1 1 1 1 1 1 1 1 1 1 1 1 1 1 1 1 1 1 1 1 1 1 1 1 1 1 1 1 1 1 1 1 1 1 1 1 1 1 1 1 1 1 1 1 1 1 1 1 1 1 1 1 1 1 1 1 1 1 1 1 1 1 1 1 1 1 1\n",
      "12/02/2023 00:37:46 - INFO - __main__ -   source_mask: 1 1 1 1 1 1 1 1 1 1 1 1 1 1 1 1 1 1 1 1 1 1 1 1 1 1 1 1 1 1 1 1 1 1 1 1 1 1 1 1 1 1 1 1 1 1 1 0 0 0 0 0 0 0 0 0 0 0 0 0 0 0 0 0 0 0 0 0 0 0 0 0 0 0 0 0 0 0 0 0 0 0 0 0 0 0 0 0 0 0 0 0 0 0 0 0 0 0 0 0 0 0 0 0 0 0 0 0 0 0 0 0 0 0 0 0 0 0 0 0 0 0 0 0 0 0 0 0 0 0 0 0 0 0 0 0 0 0 0 0 0 0 0 0 0 0 0 0 0 0 0 0 0 0 0 0 0 0 0 0 0 0 0 0 0 0 0 0 0 0 0 0 0 0 0 0 0 0 0 0 0 0 0 0 0 0 0 0 0 0 0 0 0 0 0 0 0 0 0 0 0 0 0 0 0 0 0 0 0 0 0 0 0 0 0 0 0 0 0 0 0 0 0 0 0 0 0 0 0 0 0 0 0 0 0 0 0 0 0 0 0 0 0 0 0 0 0 0 0 0 0 0 0 0 0 0\n",
      "12/02/2023 00:37:46 - INFO - __main__ -   target_tokens: ['<s>', 'Returns', '_the', '_values', '_of', '_the', '_form', 'ul', 'ae', '_as', '_python', '_types', '_.', '</s>']\n",
      "12/02/2023 00:37:46 - INFO - __main__ -   target_ids: 0 48826 5 3266 9 5 1026 922 4791 25 39825 3505 479 2 1 1 1 1 1 1 1 1 1 1 1 1 1 1 1 1 1 1 1 1 1 1 1 1 1 1 1 1 1 1 1 1 1 1 1 1 1 1 1 1 1 1 1 1 1 1 1 1 1 1 1 1 1 1 1 1 1 1 1 1 1 1 1 1 1 1 1 1 1 1 1 1 1 1 1 1 1 1 1 1 1 1 1 1 1 1 1 1 1 1 1 1 1 1 1 1 1 1 1 1 1 1 1 1 1 1 1 1 1 1 1 1 1 1\n",
      "12/02/2023 00:37:46 - INFO - __main__ -   target_mask: 1 1 1 1 1 1 1 1 1 1 1 1 1 1 0 0 0 0 0 0 0 0 0 0 0 0 0 0 0 0 0 0 0 0 0 0 0 0 0 0 0 0 0 0 0 0 0 0 0 0 0 0 0 0 0 0 0 0 0 0 0 0 0 0 0 0 0 0 0 0 0 0 0 0 0 0 0 0 0 0 0 0 0 0 0 0 0 0 0 0 0 0 0 0 0 0 0 0 0 0 0 0 0 0 0 0 0 0 0 0 0 0 0 0 0 0 0 0 0 0 0 0 0 0 0 0 0 0\n",
      "12/02/2023 00:37:46 - INFO - __main__ -   *** Example ***\n",
      "12/02/2023 00:37:46 - INFO - __main__ -   idx: 4\n",
      "12/02/2023 00:37:46 - INFO - __main__ -   source_tokens: ['<s>', 'def', '_add', '_', 'to', '_', 'menu', '_(', '_self', '_,', '_menu', '_', 'item', '_)', '_:', '_item', '_=', '_menu', '_', 'item', '_.', '_item', '_action', '_=', '_item', '_.', '_action', '_if', '_action', '_.', '_id', '_!=', '_\"\"', '_:', '_self', '_.', '_u', 'i', '_.', '_info', '_.', '_bind', '_(', '_action', '_.', '_id', '_,', '_menu', '_', 'item', '_)', '_if', '_action', '_.', '_enabled', '_', 'when', '_!=', '_\"\"', '_:', '_self', '_.', '_u', 'i', '_.', '_add', '_', 'enabled', '_(', '_action', '_.', '_enabled', '_', 'when', '_,', '_menu', '_', 'item', '_)', '_if', '_action', '_.', '_visible', '_', 'when', '_!=', '_\"\"', '_:', '_self', '_.', '_u', 'i', '_.', '_add', '_', 'visible', '_(', '_action', '_.', '_visible', '_', 'when', '_,', '_menu', '_', 'item', '_)', '_if', '_action', '_.', '_checked', '_', 'when', '_!=', '_\"\"', '_:', '_self', '_.', '_u', 'i', '_.', '_add', '_', 'checked', '_(', '_action', '_.', '_checked', '_', 'when', '_,', '_menu', '_', 'item', '_)', '</s>']\n",
      "12/02/2023 00:37:46 - INFO - __main__ -   source_ids: 0 9232 1606 1215 560 1215 45801 36 1403 2156 5765 1215 36907 4839 4832 6880 5457 5765 1215 36907 479 6880 814 5457 6880 479 814 114 814 479 13561 49333 41039 4832 1403 479 1717 118 479 8574 479 23379 36 814 479 13561 2156 5765 1215 36907 4839 114 814 479 9778 1215 14746 49333 41039 4832 1403 479 1717 118 479 1606 1215 23949 36 814 479 9778 1215 14746 2156 5765 1215 36907 4839 114 814 479 7097 1215 14746 49333 41039 4832 1403 479 1717 118 479 1606 1215 42152 36 814 479 7097 1215 14746 2156 5765 1215 36907 4839 114 814 479 7869 1215 14746 49333 41039 4832 1403 479 1717 118 479 1606 1215 41641 36 814 479 7869 1215 14746 2156 5765 1215 36907 4839 2 1 1 1 1 1 1 1 1 1 1 1 1 1 1 1 1 1 1 1 1 1 1 1 1 1 1 1 1 1 1 1 1 1 1 1 1 1 1 1 1 1 1 1 1 1 1 1 1 1 1 1 1 1 1 1 1 1 1 1 1 1 1 1 1 1 1 1 1 1 1 1 1 1 1 1 1 1 1 1 1 1 1 1 1 1 1 1 1 1 1 1 1 1 1 1 1 1 1 1 1 1 1 1 1 1 1 1 1 1 1 1 1 1 1 1 1 1 1 1 1\n",
      "12/02/2023 00:37:46 - INFO - __main__ -   source_mask: 1 1 1 1 1 1 1 1 1 1 1 1 1 1 1 1 1 1 1 1 1 1 1 1 1 1 1 1 1 1 1 1 1 1 1 1 1 1 1 1 1 1 1 1 1 1 1 1 1 1 1 1 1 1 1 1 1 1 1 1 1 1 1 1 1 1 1 1 1 1 1 1 1 1 1 1 1 1 1 1 1 1 1 1 1 1 1 1 1 1 1 1 1 1 1 1 1 1 1 1 1 1 1 1 1 1 1 1 1 1 1 1 1 1 1 1 1 1 1 1 1 1 1 1 1 1 1 1 1 1 1 1 1 1 1 1 0 0 0 0 0 0 0 0 0 0 0 0 0 0 0 0 0 0 0 0 0 0 0 0 0 0 0 0 0 0 0 0 0 0 0 0 0 0 0 0 0 0 0 0 0 0 0 0 0 0 0 0 0 0 0 0 0 0 0 0 0 0 0 0 0 0 0 0 0 0 0 0 0 0 0 0 0 0 0 0 0 0 0 0 0 0 0 0 0 0 0 0 0 0 0 0 0 0 0 0 0 0 0 0 0 0 0 0 0 0 0 0 0 0 0 0 0 0 0 0\n",
      "12/02/2023 00:37:46 - INFO - __main__ -   target_tokens: ['<s>', 'Adds', '_a', '_menu', '_item', '_to', '_the', '_menu', '_bar', '_being', '_constructed', '_.', '</s>']\n",
      "12/02/2023 00:37:46 - INFO - __main__ -   target_ids: 0 9984 10 5765 6880 7 5 5765 2003 145 11236 479 2 1 1 1 1 1 1 1 1 1 1 1 1 1 1 1 1 1 1 1 1 1 1 1 1 1 1 1 1 1 1 1 1 1 1 1 1 1 1 1 1 1 1 1 1 1 1 1 1 1 1 1 1 1 1 1 1 1 1 1 1 1 1 1 1 1 1 1 1 1 1 1 1 1 1 1 1 1 1 1 1 1 1 1 1 1 1 1 1 1 1 1 1 1 1 1 1 1 1 1 1 1 1 1 1 1 1 1 1 1 1 1 1 1 1 1\n",
      "12/02/2023 00:37:46 - INFO - __main__ -   target_mask: 1 1 1 1 1 1 1 1 1 1 1 1 1 0 0 0 0 0 0 0 0 0 0 0 0 0 0 0 0 0 0 0 0 0 0 0 0 0 0 0 0 0 0 0 0 0 0 0 0 0 0 0 0 0 0 0 0 0 0 0 0 0 0 0 0 0 0 0 0 0 0 0 0 0 0 0 0 0 0 0 0 0 0 0 0 0 0 0 0 0 0 0 0 0 0 0 0 0 0 0 0 0 0 0 0 0 0 0 0 0 0 0 0 0 0 0 0 0 0 0 0 0 0 0 0 0 0 0\n",
      "/opt/conda/lib/python3.10/site-packages/transformers/optimization.py:411: FutureWarning: This implementation of AdamW is deprecated and will be removed in a future version. Use the PyTorch implementation torch.optim.AdamW instead, or set `no_deprecation_warning=True` to disable this warning\n",
      "  warnings.warn(\n",
      "12/02/2023 00:38:51 - INFO - __main__ -   ***** Running training *****\n",
      "12/02/2023 00:38:51 - INFO - __main__ -     Num examples = 66055\n",
      "12/02/2023 00:38:51 - INFO - __main__ -     Batch size = 32\n",
      "12/02/2023 00:38:51 - INFO - __main__ -     Num epoch = 0\n",
      "  0%|                                                    | 0/10 [00:00<?, ?it/s]"
     ]
    }
   ],
   "source": [
    "lang='python' #programming language\n",
    "lr=5e-5\n",
    "batch_size=32\n",
    "beam_size=10\n",
    "source_length=256\n",
    "target_length=128\n",
    "output_dir=f'model/{lang}'\n",
    "data_dir='data'\n",
    "train_file=f'{data_dir}/python-cleaned-train.jsonl'\n",
    "dev_file=f'{data_dir}/python-cleaned-valid.jsonl'\n",
    "# eval_steps=400 #400 for ruby, 600 for javascript, 1000 for others\n",
    "# train_steps=20000 #20000 for ruby, 30000 for javascript, 50000 for others\n",
    "eval_steps=1 #400 for ruby, 600 for javascript, 1000 for others\n",
    "train_steps=10 #20000 for ruby, 30000 for javascript, 50000 for others\n",
    "pretrained_model='microsoft/codebert-base' #Roberta: roberta-base\n",
    "test_model=f'pytorch_model.bin' #checkpoint for test\n",
    "\n",
    "!python code2nl/run.py --do_train --do_eval --model_type roberta --model_name_or_path $pretrained_model --load_model_path $test_model --train_filename $train_file --dev_filename $dev_file --output_dir $output_dir --max_source_length $source_length --max_target_length $target_length --beam_size $beam_size --train_batch_size $batch_size --eval_batch_size $batch_size --learning_rate $lr --train_steps $train_steps --eval_steps $eval_steps"
   ]
  },
  {
   "cell_type": "code",
   "execution_count": 10,
   "metadata": {
    "tags": []
   },
   "outputs": [
    {
     "name": "stdout",
     "output_type": "stream",
     "text": [
      "Collecting torch\n",
      "  Downloading torch-2.1.1-cp310-cp310-manylinux1_x86_64.whl.metadata (25 kB)\n",
      "Requirement already satisfied: filelock in /opt/conda/lib/python3.10/site-packages (from torch) (3.13.1)\n",
      "Requirement already satisfied: typing-extensions in /opt/conda/lib/python3.10/site-packages (from torch) (4.8.0)\n",
      "Collecting sympy (from torch)\n",
      "  Downloading sympy-1.12-py3-none-any.whl (5.7 MB)\n",
      "\u001b[2K     \u001b[90m━━━━━━━━━━━━━━━━━━━━━━━━━━━━━━━━━━━━━━━━\u001b[0m \u001b[32m5.7/5.7 MB\u001b[0m \u001b[31m38.7 MB/s\u001b[0m eta \u001b[36m0:00:00\u001b[0m00:01\u001b[0m00:01\u001b[0m\n",
      "\u001b[?25hRequirement already satisfied: networkx in /opt/conda/lib/python3.10/site-packages (from torch) (3.2.1)\n",
      "Requirement already satisfied: jinja2 in /opt/conda/lib/python3.10/site-packages (from torch) (3.1.2)\n",
      "Requirement already satisfied: fsspec in /opt/conda/lib/python3.10/site-packages (from torch) (2023.10.0)\n",
      "Collecting nvidia-cuda-nvrtc-cu12==12.1.105 (from torch)\n",
      "  Downloading nvidia_cuda_nvrtc_cu12-12.1.105-py3-none-manylinux1_x86_64.whl (23.7 MB)\n",
      "\u001b[2K     \u001b[90m━━━━━━━━━━━━━━━━━━━━━━━━━━━━━━━━━━━━━━━━\u001b[0m \u001b[32m23.7/23.7 MB\u001b[0m \u001b[31m36.3 MB/s\u001b[0m eta \u001b[36m0:00:00\u001b[0m00:01\u001b[0m00:01\u001b[0m\n",
      "\u001b[?25hCollecting nvidia-cuda-runtime-cu12==12.1.105 (from torch)\n",
      "  Downloading nvidia_cuda_runtime_cu12-12.1.105-py3-none-manylinux1_x86_64.whl (823 kB)\n",
      "\u001b[2K     \u001b[90m━━━━━━━━━━━━━━━━━━━━━━━━━━━━━━━━━━━━━━\u001b[0m \u001b[32m823.6/823.6 kB\u001b[0m \u001b[31m57.7 MB/s\u001b[0m eta \u001b[36m0:00:00\u001b[0m\n",
      "\u001b[?25hCollecting nvidia-cuda-cupti-cu12==12.1.105 (from torch)\n",
      "  Downloading nvidia_cuda_cupti_cu12-12.1.105-py3-none-manylinux1_x86_64.whl (14.1 MB)\n",
      "\u001b[2K     \u001b[90m━━━━━━━━━━━━━━━━━━━━━━━━━━━━━━━━━━━━━━━━\u001b[0m \u001b[32m14.1/14.1 MB\u001b[0m \u001b[31m57.5 MB/s\u001b[0m eta \u001b[36m0:00:00\u001b[0m00:01\u001b[0m00:01\u001b[0m\n",
      "\u001b[?25hCollecting nvidia-cudnn-cu12==8.9.2.26 (from torch)\n",
      "  Downloading nvidia_cudnn_cu12-8.9.2.26-py3-none-manylinux1_x86_64.whl.metadata (1.6 kB)\n",
      "Collecting nvidia-cublas-cu12==12.1.3.1 (from torch)\n",
      "  Downloading nvidia_cublas_cu12-12.1.3.1-py3-none-manylinux1_x86_64.whl (410.6 MB)\n",
      "\u001b[2K     \u001b[90m━━━━━━━━━━━━━━━━━━━━━━━━━━━━━━━━━━━━━━━\u001b[0m \u001b[32m410.6/410.6 MB\u001b[0m \u001b[31m1.3 MB/s\u001b[0m eta \u001b[36m0:00:00\u001b[0m00:01\u001b[0m00:01\u001b[0m\n",
      "\u001b[?25hCollecting nvidia-cufft-cu12==11.0.2.54 (from torch)\n",
      "  Downloading nvidia_cufft_cu12-11.0.2.54-py3-none-manylinux1_x86_64.whl (121.6 MB)\n",
      "\u001b[2K     \u001b[90m━━━━━━━━━━━━━━━━━━━━━━━━━━━━━━━━━━━━━━━\u001b[0m \u001b[32m121.6/121.6 MB\u001b[0m \u001b[31m5.1 MB/s\u001b[0m eta \u001b[36m0:00:00\u001b[0m00:01\u001b[0m00:01\u001b[0m\n",
      "\u001b[?25hCollecting nvidia-curand-cu12==10.3.2.106 (from torch)\n",
      "  Downloading nvidia_curand_cu12-10.3.2.106-py3-none-manylinux1_x86_64.whl (56.5 MB)\n",
      "\u001b[2K     \u001b[90m━━━━━━━━━━━━━━━━━━━━━━━━━━━━━━━━━━━━━━━━\u001b[0m \u001b[32m56.5/56.5 MB\u001b[0m \u001b[31m19.2 MB/s\u001b[0m eta \u001b[36m0:00:00\u001b[0m00:01\u001b[0m00:01\u001b[0m\n",
      "\u001b[?25hCollecting nvidia-cusolver-cu12==11.4.5.107 (from torch)\n",
      "  Downloading nvidia_cusolver_cu12-11.4.5.107-py3-none-manylinux1_x86_64.whl (124.2 MB)\n",
      "\u001b[2K     \u001b[90m━━━━━━━━━━━━━━━━━━━━━━━━━━━━━━━━━━━━━━━\u001b[0m \u001b[32m124.2/124.2 MB\u001b[0m \u001b[31m3.9 MB/s\u001b[0m eta \u001b[36m0:00:00\u001b[0m00:01\u001b[0m00:01\u001b[0m\n",
      "\u001b[?25hCollecting nvidia-cusparse-cu12==12.1.0.106 (from torch)\n",
      "  Downloading nvidia_cusparse_cu12-12.1.0.106-py3-none-manylinux1_x86_64.whl (196.0 MB)\n",
      "\u001b[2K     \u001b[90m━━━━━━━━━━━━━━━━━━━━━━━━━━━━━━━━━━━━━━━\u001b[0m \u001b[32m196.0/196.0 MB\u001b[0m \u001b[31m2.9 MB/s\u001b[0m eta \u001b[36m0:00:00\u001b[0m00:01\u001b[0m00:01\u001b[0m\n",
      "\u001b[?25hCollecting nvidia-nccl-cu12==2.18.1 (from torch)\n",
      "  Downloading nvidia_nccl_cu12-2.18.1-py3-none-manylinux1_x86_64.whl (209.8 MB)\n",
      "\u001b[2K     \u001b[90m━━━━━━━━━━━━━━━━━━━━━━━━━━━━━━━━━━━━━━━\u001b[0m \u001b[32m209.8/209.8 MB\u001b[0m \u001b[31m2.6 MB/s\u001b[0m eta \u001b[36m0:00:00\u001b[0m00:01\u001b[0m00:01\u001b[0m\n",
      "\u001b[?25hCollecting nvidia-nvtx-cu12==12.1.105 (from torch)\n",
      "  Downloading nvidia_nvtx_cu12-12.1.105-py3-none-manylinux1_x86_64.whl (99 kB)\n",
      "\u001b[2K     \u001b[90m━━━━━━━━━━━━━━━━━━━━━━━━━━━━━━━━━━━━━━━━\u001b[0m \u001b[32m99.1/99.1 kB\u001b[0m \u001b[31m14.5 MB/s\u001b[0m eta \u001b[36m0:00:00\u001b[0m\n",
      "\u001b[?25hCollecting triton==2.1.0 (from torch)\n",
      "  Downloading triton-2.1.0-0-cp310-cp310-manylinux2014_x86_64.manylinux_2_17_x86_64.whl.metadata (1.3 kB)\n",
      "Collecting nvidia-nvjitlink-cu12 (from nvidia-cusolver-cu12==11.4.5.107->torch)\n",
      "  Downloading nvidia_nvjitlink_cu12-12.3.101-py3-none-manylinux1_x86_64.whl.metadata (1.5 kB)\n",
      "Requirement already satisfied: MarkupSafe>=2.0 in /opt/conda/lib/python3.10/site-packages (from jinja2->torch) (2.1.3)\n",
      "Collecting mpmath>=0.19 (from sympy->torch)\n",
      "  Downloading mpmath-1.3.0-py3-none-any.whl (536 kB)\n",
      "\u001b[2K     \u001b[90m━━━━━━━━━━━━━━━━━━━━━━━━━━━━━━━━━━━━━━\u001b[0m \u001b[32m536.2/536.2 kB\u001b[0m \u001b[31m42.3 MB/s\u001b[0m eta \u001b[36m0:00:00\u001b[0m\n",
      "\u001b[?25hDownloading torch-2.1.1-cp310-cp310-manylinux1_x86_64.whl (670.2 MB)\n",
      "\u001b[2K   \u001b[90m━━━━━━━━━━━━━━━━━━━━━━━━━━━━━━━━━━━━━━━━\u001b[0m \u001b[32m670.2/670.2 MB\u001b[0m \u001b[31m1.0 MB/s\u001b[0m eta \u001b[36m0:00:00\u001b[0m:00:01\u001b[0m00:01\u001b[0m\n",
      "\u001b[?25hDownloading nvidia_cudnn_cu12-8.9.2.26-py3-none-manylinux1_x86_64.whl (731.7 MB)\n",
      "\u001b[2K   \u001b[90m━━━━━━━━━━━━━━━━━━━━━━━━━━━━━━━━━━━━━━━\u001b[0m \u001b[32m731.7/731.7 MB\u001b[0m \u001b[31m992.7 kB/s\u001b[0m eta \u001b[36m0:00:00\u001b[0m00:01\u001b[0m00:01\u001b[0m\n",
      "\u001b[?25hDownloading triton-2.1.0-0-cp310-cp310-manylinux2014_x86_64.manylinux_2_17_x86_64.whl (89.2 MB)\n",
      "\u001b[2K   \u001b[90m━━━━━━━━━━━━━━━━━━━━━━━━━━━━━━━━━━━━━━━━\u001b[0m \u001b[32m89.2/89.2 MB\u001b[0m \u001b[31m13.7 MB/s\u001b[0m eta \u001b[36m0:00:00\u001b[0m:00:01\u001b[0m00:01\u001b[0m\n",
      "\u001b[?25hDownloading nvidia_nvjitlink_cu12-12.3.101-py3-none-manylinux1_x86_64.whl (20.5 MB)\n",
      "\u001b[2K   \u001b[90m━━━━━━━━━━━━━━━━━━━━━━━━━━━━━━━━━━━━━━━━\u001b[0m \u001b[32m20.5/20.5 MB\u001b[0m \u001b[31m46.8 MB/s\u001b[0m eta \u001b[36m0:00:00\u001b[0m:00:01\u001b[0m00:01\u001b[0m\n",
      "\u001b[?25hInstalling collected packages: mpmath, triton, sympy, nvidia-nvtx-cu12, nvidia-nvjitlink-cu12, nvidia-nccl-cu12, nvidia-curand-cu12, nvidia-cufft-cu12, nvidia-cuda-runtime-cu12, nvidia-cuda-nvrtc-cu12, nvidia-cuda-cupti-cu12, nvidia-cublas-cu12, nvidia-cusparse-cu12, nvidia-cudnn-cu12, nvidia-cusolver-cu12, torch\n",
      "Successfully installed mpmath-1.3.0 nvidia-cublas-cu12-12.1.3.1 nvidia-cuda-cupti-cu12-12.1.105 nvidia-cuda-nvrtc-cu12-12.1.105 nvidia-cuda-runtime-cu12-12.1.105 nvidia-cudnn-cu12-8.9.2.26 nvidia-cufft-cu12-11.0.2.54 nvidia-curand-cu12-10.3.2.106 nvidia-cusolver-cu12-11.4.5.107 nvidia-cusparse-cu12-12.1.0.106 nvidia-nccl-cu12-2.18.1 nvidia-nvjitlink-cu12-12.3.101 nvidia-nvtx-cu12-12.1.105 sympy-1.12 torch-2.1.1 triton-2.1.0\n"
     ]
    }
   ],
   "source": [
    "!pip install torch"
   ]
  }
 ],
 "metadata": {
  "accelerator": "GPU",
  "colab": {
   "authorship_tag": "ABX9TyOTgez+SGEMnY+VW1j6tC8a",
   "gpuType": "T4",
   "provenance": []
  },
  "kernelspec": {
   "display_name": "Python 3",
   "language": "python",
   "name": "python3"
  },
  "language_info": {
   "codemirror_mode": {
    "name": "ipython",
    "version": 3
   },
   "file_extension": ".py",
   "mimetype": "text/x-python",
   "name": "python",
   "nbconvert_exporter": "python",
   "pygments_lexer": "ipython3",
   "version": "3.10.13"
  }
 },
 "nbformat": 4,
 "nbformat_minor": 4
}
